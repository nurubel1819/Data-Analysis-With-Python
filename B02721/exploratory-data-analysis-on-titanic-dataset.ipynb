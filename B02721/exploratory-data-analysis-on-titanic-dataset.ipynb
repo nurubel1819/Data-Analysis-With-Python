{
 "cells": [
  {
   "cell_type": "markdown",
   "id": "e261e794",
   "metadata": {
    "papermill": {
     "duration": 0.007645,
     "end_time": "2024-09-16T23:22:43.851202",
     "exception": false,
     "start_time": "2024-09-16T23:22:43.843557",
     "status": "completed"
    },
    "tags": []
   },
   "source": [
    "# Name : MD Nasir Uddin\n",
    "# ID : B02721\n",
    "# Exploratory Data Analysis (EDA) on Titanic Dataset Using Python"
   ]
  },
  {
   "cell_type": "markdown",
   "id": "d9e41cb7",
   "metadata": {
    "papermill": {
     "duration": 0.006666,
     "end_time": "2024-09-16T23:22:43.864945",
     "exception": false,
     "start_time": "2024-09-16T23:22:43.858279",
     "status": "completed"
    },
    "tags": []
   },
   "source": [
    "## Problem Statement\n",
    "The Titanic disaster is one of the most well-known maritime tragedies in history. Over 1,500 people lost their lives when the ship sank after hitting an iceberg. With the help of data, we can explore key insights about the passengers and the factors that might have influenced survival rates.\n",
    "\n",
    "This article will guide you through the process of performing Exploratory Data Analysis (EDA) on the famous Titanic dataset to uncover patterns and correlations. EDA is a crucial first step in any data science or machine learning project, as it helps you understand your dataset before building predictive models.\n",
    "\n",
    "## Technical Stack\n",
    "* Python: Our primary programming language.\n",
    "* Pandas: To clean, explore, and manipulate the data.\n",
    "* Matplotlib/Seaborn: To create visualizations and better understand the dataset."
   ]
  },
  {
   "cell_type": "markdown",
   "id": "d18d8323",
   "metadata": {
    "papermill": {
     "duration": 0.006609,
     "end_time": "2024-09-16T23:22:43.878298",
     "exception": false,
     "start_time": "2024-09-16T23:22:43.871689",
     "status": "completed"
    },
    "tags": []
   },
   "source": [
    "## Steps Followed"
   ]
  },
  {
   "cell_type": "markdown",
   "id": "91240519",
   "metadata": {
    "papermill": {
     "duration": 0.006501,
     "end_time": "2024-09-16T23:22:43.891599",
     "exception": false,
     "start_time": "2024-09-16T23:22:43.885098",
     "status": "completed"
    },
    "tags": []
   },
   "source": [
    "### Step 1: Import Necessary Libraries"
   ]
  },
  {
   "cell_type": "code",
   "execution_count": 1,
   "id": "428e36d0",
   "metadata": {
    "execution": {
     "iopub.execute_input": "2024-09-16T23:22:43.907136Z",
     "iopub.status.busy": "2024-09-16T23:22:43.906685Z",
     "iopub.status.idle": "2024-09-16T23:22:46.445550Z",
     "shell.execute_reply": "2024-09-16T23:22:46.444471Z"
    },
    "papermill": {
     "duration": 2.549915,
     "end_time": "2024-09-16T23:22:46.448286",
     "exception": false,
     "start_time": "2024-09-16T23:22:43.898371",
     "status": "completed"
    },
    "tags": []
   },
   "outputs": [],
   "source": [
    "import numpy as np # linear algebra\n",
    "import pandas as pd # data processing, CSV file I/O (e.g. pd.read_csv)\n",
    "import seaborn as sns\n",
    "import matplotlib.pyplot as plt\n",
    "import warnings\n",
    "warnings.filterwarnings(\"ignore\", category=FutureWarning)\n"
   ]
  },
  {
   "cell_type": "markdown",
   "id": "fd725a61",
   "metadata": {
    "papermill": {
     "duration": 0.006563,
     "end_time": "2024-09-16T23:22:46.461801",
     "exception": false,
     "start_time": "2024-09-16T23:22:46.455238",
     "status": "completed"
    },
    "tags": []
   },
   "source": [
    "### Step 2: Loading the Dataset\n",
    "The Titanic dataset is available on platforms like Kaggle. We'll start by loading it into a Pandas DataFrame and inspecting its structure."
   ]
  },
  {
   "cell_type": "code",
   "execution_count": 2,
   "id": "3f774340",
   "metadata": {
    "execution": {
     "iopub.execute_input": "2024-09-16T23:22:46.477652Z",
     "iopub.status.busy": "2024-09-16T23:22:46.477110Z",
     "iopub.status.idle": "2024-09-16T23:22:46.524209Z",
     "shell.execute_reply": "2024-09-16T23:22:46.523075Z"
    },
    "papermill": {
     "duration": 0.057741,
     "end_time": "2024-09-16T23:22:46.526662",
     "exception": false,
     "start_time": "2024-09-16T23:22:46.468921",
     "status": "completed"
    },
    "tags": []
   },
   "outputs": [
    {
     "data": {
      "text/html": [
       "<div>\n",
       "<style scoped>\n",
       "    .dataframe tbody tr th:only-of-type {\n",
       "        vertical-align: middle;\n",
       "    }\n",
       "\n",
       "    .dataframe tbody tr th {\n",
       "        vertical-align: top;\n",
       "    }\n",
       "\n",
       "    .dataframe thead th {\n",
       "        text-align: right;\n",
       "    }\n",
       "</style>\n",
       "<table border=\"1\" class=\"dataframe\">\n",
       "  <thead>\n",
       "    <tr style=\"text-align: right;\">\n",
       "      <th></th>\n",
       "      <th>PassengerId</th>\n",
       "      <th>Survived</th>\n",
       "      <th>Pclass</th>\n",
       "      <th>Name</th>\n",
       "      <th>Sex</th>\n",
       "      <th>Age</th>\n",
       "      <th>SibSp</th>\n",
       "      <th>Parch</th>\n",
       "      <th>Ticket</th>\n",
       "      <th>Fare</th>\n",
       "      <th>Cabin</th>\n",
       "      <th>Embarked</th>\n",
       "    </tr>\n",
       "  </thead>\n",
       "  <tbody>\n",
       "    <tr>\n",
       "      <th>0</th>\n",
       "      <td>1</td>\n",
       "      <td>0</td>\n",
       "      <td>3</td>\n",
       "      <td>Braund, Mr. Owen Harris</td>\n",
       "      <td>male</td>\n",
       "      <td>22.0</td>\n",
       "      <td>1</td>\n",
       "      <td>0</td>\n",
       "      <td>A/5 21171</td>\n",
       "      <td>7.2500</td>\n",
       "      <td>NaN</td>\n",
       "      <td>S</td>\n",
       "    </tr>\n",
       "    <tr>\n",
       "      <th>1</th>\n",
       "      <td>2</td>\n",
       "      <td>1</td>\n",
       "      <td>1</td>\n",
       "      <td>Cumings, Mrs. John Bradley (Florence Briggs Th...</td>\n",
       "      <td>female</td>\n",
       "      <td>38.0</td>\n",
       "      <td>1</td>\n",
       "      <td>0</td>\n",
       "      <td>PC 17599</td>\n",
       "      <td>71.2833</td>\n",
       "      <td>C85</td>\n",
       "      <td>C</td>\n",
       "    </tr>\n",
       "    <tr>\n",
       "      <th>2</th>\n",
       "      <td>3</td>\n",
       "      <td>1</td>\n",
       "      <td>3</td>\n",
       "      <td>Heikkinen, Miss. Laina</td>\n",
       "      <td>female</td>\n",
       "      <td>26.0</td>\n",
       "      <td>0</td>\n",
       "      <td>0</td>\n",
       "      <td>STON/O2. 3101282</td>\n",
       "      <td>7.9250</td>\n",
       "      <td>NaN</td>\n",
       "      <td>S</td>\n",
       "    </tr>\n",
       "    <tr>\n",
       "      <th>3</th>\n",
       "      <td>4</td>\n",
       "      <td>1</td>\n",
       "      <td>1</td>\n",
       "      <td>Futrelle, Mrs. Jacques Heath (Lily May Peel)</td>\n",
       "      <td>female</td>\n",
       "      <td>35.0</td>\n",
       "      <td>1</td>\n",
       "      <td>0</td>\n",
       "      <td>113803</td>\n",
       "      <td>53.1000</td>\n",
       "      <td>C123</td>\n",
       "      <td>S</td>\n",
       "    </tr>\n",
       "    <tr>\n",
       "      <th>4</th>\n",
       "      <td>5</td>\n",
       "      <td>0</td>\n",
       "      <td>3</td>\n",
       "      <td>Allen, Mr. William Henry</td>\n",
       "      <td>male</td>\n",
       "      <td>35.0</td>\n",
       "      <td>0</td>\n",
       "      <td>0</td>\n",
       "      <td>373450</td>\n",
       "      <td>8.0500</td>\n",
       "      <td>NaN</td>\n",
       "      <td>S</td>\n",
       "    </tr>\n",
       "  </tbody>\n",
       "</table>\n",
       "</div>"
      ],
      "text/plain": [
       "   PassengerId  Survived  Pclass  \\\n",
       "0            1         0       3   \n",
       "1            2         1       1   \n",
       "2            3         1       3   \n",
       "3            4         1       1   \n",
       "4            5         0       3   \n",
       "\n",
       "                                                Name     Sex   Age  SibSp  \\\n",
       "0                            Braund, Mr. Owen Harris    male  22.0      1   \n",
       "1  Cumings, Mrs. John Bradley (Florence Briggs Th...  female  38.0      1   \n",
       "2                             Heikkinen, Miss. Laina  female  26.0      0   \n",
       "3       Futrelle, Mrs. Jacques Heath (Lily May Peel)  female  35.0      1   \n",
       "4                           Allen, Mr. William Henry    male  35.0      0   \n",
       "\n",
       "   Parch            Ticket     Fare Cabin Embarked  \n",
       "0      0         A/5 21171   7.2500   NaN        S  \n",
       "1      0          PC 17599  71.2833   C85        C  \n",
       "2      0  STON/O2. 3101282   7.9250   NaN        S  \n",
       "3      0            113803  53.1000  C123        S  \n",
       "4      0            373450   8.0500   NaN        S  "
      ]
     },
     "execution_count": 2,
     "metadata": {},
     "output_type": "execute_result"
    }
   ],
   "source": [
    "# Load the Titanic dataset\n",
    "titanic_df = pd.read_csv('Titanic-Dataset.csv')\n",
    "\n",
    "# Display the first few rows\n",
    "titanic_df.head()"
   ]
  },
  {
   "cell_type": "code",
   "execution_count": 3,
   "id": "80c1319d",
   "metadata": {
    "execution": {
     "iopub.execute_input": "2024-09-16T23:22:46.543245Z",
     "iopub.status.busy": "2024-09-16T23:22:46.542534Z",
     "iopub.status.idle": "2024-09-16T23:22:46.558348Z",
     "shell.execute_reply": "2024-09-16T23:22:46.557307Z"
    },
    "papermill": {
     "duration": 0.026512,
     "end_time": "2024-09-16T23:22:46.560501",
     "exception": false,
     "start_time": "2024-09-16T23:22:46.533989",
     "status": "completed"
    },
    "tags": []
   },
   "outputs": [
    {
     "data": {
      "text/html": [
       "<div>\n",
       "<style scoped>\n",
       "    .dataframe tbody tr th:only-of-type {\n",
       "        vertical-align: middle;\n",
       "    }\n",
       "\n",
       "    .dataframe tbody tr th {\n",
       "        vertical-align: top;\n",
       "    }\n",
       "\n",
       "    .dataframe thead th {\n",
       "        text-align: right;\n",
       "    }\n",
       "</style>\n",
       "<table border=\"1\" class=\"dataframe\">\n",
       "  <thead>\n",
       "    <tr style=\"text-align: right;\">\n",
       "      <th></th>\n",
       "      <th>PassengerId</th>\n",
       "      <th>Survived</th>\n",
       "      <th>Pclass</th>\n",
       "      <th>Name</th>\n",
       "      <th>Sex</th>\n",
       "      <th>Age</th>\n",
       "      <th>SibSp</th>\n",
       "      <th>Parch</th>\n",
       "      <th>Ticket</th>\n",
       "      <th>Fare</th>\n",
       "      <th>Cabin</th>\n",
       "      <th>Embarked</th>\n",
       "    </tr>\n",
       "  </thead>\n",
       "  <tbody>\n",
       "    <tr>\n",
       "      <th>886</th>\n",
       "      <td>887</td>\n",
       "      <td>0</td>\n",
       "      <td>2</td>\n",
       "      <td>Montvila, Rev. Juozas</td>\n",
       "      <td>male</td>\n",
       "      <td>27.0</td>\n",
       "      <td>0</td>\n",
       "      <td>0</td>\n",
       "      <td>211536</td>\n",
       "      <td>13.00</td>\n",
       "      <td>NaN</td>\n",
       "      <td>S</td>\n",
       "    </tr>\n",
       "    <tr>\n",
       "      <th>887</th>\n",
       "      <td>888</td>\n",
       "      <td>1</td>\n",
       "      <td>1</td>\n",
       "      <td>Graham, Miss. Margaret Edith</td>\n",
       "      <td>female</td>\n",
       "      <td>19.0</td>\n",
       "      <td>0</td>\n",
       "      <td>0</td>\n",
       "      <td>112053</td>\n",
       "      <td>30.00</td>\n",
       "      <td>B42</td>\n",
       "      <td>S</td>\n",
       "    </tr>\n",
       "    <tr>\n",
       "      <th>888</th>\n",
       "      <td>889</td>\n",
       "      <td>0</td>\n",
       "      <td>3</td>\n",
       "      <td>Johnston, Miss. Catherine Helen \"Carrie\"</td>\n",
       "      <td>female</td>\n",
       "      <td>NaN</td>\n",
       "      <td>1</td>\n",
       "      <td>2</td>\n",
       "      <td>W./C. 6607</td>\n",
       "      <td>23.45</td>\n",
       "      <td>NaN</td>\n",
       "      <td>S</td>\n",
       "    </tr>\n",
       "    <tr>\n",
       "      <th>889</th>\n",
       "      <td>890</td>\n",
       "      <td>1</td>\n",
       "      <td>1</td>\n",
       "      <td>Behr, Mr. Karl Howell</td>\n",
       "      <td>male</td>\n",
       "      <td>26.0</td>\n",
       "      <td>0</td>\n",
       "      <td>0</td>\n",
       "      <td>111369</td>\n",
       "      <td>30.00</td>\n",
       "      <td>C148</td>\n",
       "      <td>C</td>\n",
       "    </tr>\n",
       "    <tr>\n",
       "      <th>890</th>\n",
       "      <td>891</td>\n",
       "      <td>0</td>\n",
       "      <td>3</td>\n",
       "      <td>Dooley, Mr. Patrick</td>\n",
       "      <td>male</td>\n",
       "      <td>32.0</td>\n",
       "      <td>0</td>\n",
       "      <td>0</td>\n",
       "      <td>370376</td>\n",
       "      <td>7.75</td>\n",
       "      <td>NaN</td>\n",
       "      <td>Q</td>\n",
       "    </tr>\n",
       "  </tbody>\n",
       "</table>\n",
       "</div>"
      ],
      "text/plain": [
       "     PassengerId  Survived  Pclass                                      Name  \\\n",
       "886          887         0       2                     Montvila, Rev. Juozas   \n",
       "887          888         1       1              Graham, Miss. Margaret Edith   \n",
       "888          889         0       3  Johnston, Miss. Catherine Helen \"Carrie\"   \n",
       "889          890         1       1                     Behr, Mr. Karl Howell   \n",
       "890          891         0       3                       Dooley, Mr. Patrick   \n",
       "\n",
       "        Sex   Age  SibSp  Parch      Ticket   Fare Cabin Embarked  \n",
       "886    male  27.0      0      0      211536  13.00   NaN        S  \n",
       "887  female  19.0      0      0      112053  30.00   B42        S  \n",
       "888  female   NaN      1      2  W./C. 6607  23.45   NaN        S  \n",
       "889    male  26.0      0      0      111369  30.00  C148        C  \n",
       "890    male  32.0      0      0      370376   7.75   NaN        Q  "
      ]
     },
     "execution_count": 3,
     "metadata": {},
     "output_type": "execute_result"
    }
   ],
   "source": [
    "# Display the last few rows\n",
    "titanic_df.tail()"
   ]
  },
  {
   "cell_type": "code",
   "execution_count": 4,
   "id": "a8fa9921",
   "metadata": {
    "execution": {
     "iopub.execute_input": "2024-09-16T23:22:46.577835Z",
     "iopub.status.busy": "2024-09-16T23:22:46.576740Z",
     "iopub.status.idle": "2024-09-16T23:22:46.583821Z",
     "shell.execute_reply": "2024-09-16T23:22:46.582802Z"
    },
    "papermill": {
     "duration": 0.018007,
     "end_time": "2024-09-16T23:22:46.586123",
     "exception": false,
     "start_time": "2024-09-16T23:22:46.568116",
     "status": "completed"
    },
    "tags": []
   },
   "outputs": [
    {
     "data": {
      "text/plain": [
       "(891, 12)"
      ]
     },
     "execution_count": 4,
     "metadata": {},
     "output_type": "execute_result"
    }
   ],
   "source": [
    "titanic_df.shape"
   ]
  },
  {
   "cell_type": "code",
   "execution_count": 5,
   "id": "7ecd916e",
   "metadata": {
    "execution": {
     "iopub.execute_input": "2024-09-16T23:22:46.603016Z",
     "iopub.status.busy": "2024-09-16T23:22:46.602588Z",
     "iopub.status.idle": "2024-09-16T23:22:46.611190Z",
     "shell.execute_reply": "2024-09-16T23:22:46.609964Z"
    },
    "papermill": {
     "duration": 0.019516,
     "end_time": "2024-09-16T23:22:46.613345",
     "exception": false,
     "start_time": "2024-09-16T23:22:46.593829",
     "status": "completed"
    },
    "tags": []
   },
   "outputs": [
    {
     "data": {
      "text/plain": [
       "PassengerId      int64\n",
       "Survived         int64\n",
       "Pclass           int64\n",
       "Name            object\n",
       "Sex             object\n",
       "Age            float64\n",
       "SibSp            int64\n",
       "Parch            int64\n",
       "Ticket          object\n",
       "Fare           float64\n",
       "Cabin           object\n",
       "Embarked        object\n",
       "dtype: object"
      ]
     },
     "execution_count": 5,
     "metadata": {},
     "output_type": "execute_result"
    }
   ],
   "source": [
    "titanic_df.dtypes"
   ]
  },
  {
   "cell_type": "code",
   "execution_count": 6,
   "id": "1d4b902a",
   "metadata": {
    "execution": {
     "iopub.execute_input": "2024-09-16T23:22:46.630470Z",
     "iopub.status.busy": "2024-09-16T23:22:46.630050Z",
     "iopub.status.idle": "2024-09-16T23:22:46.662540Z",
     "shell.execute_reply": "2024-09-16T23:22:46.661424Z"
    },
    "papermill": {
     "duration": 0.044012,
     "end_time": "2024-09-16T23:22:46.664994",
     "exception": false,
     "start_time": "2024-09-16T23:22:46.620982",
     "status": "completed"
    },
    "tags": []
   },
   "outputs": [
    {
     "data": {
      "text/html": [
       "<div>\n",
       "<style scoped>\n",
       "    .dataframe tbody tr th:only-of-type {\n",
       "        vertical-align: middle;\n",
       "    }\n",
       "\n",
       "    .dataframe tbody tr th {\n",
       "        vertical-align: top;\n",
       "    }\n",
       "\n",
       "    .dataframe thead th {\n",
       "        text-align: right;\n",
       "    }\n",
       "</style>\n",
       "<table border=\"1\" class=\"dataframe\">\n",
       "  <thead>\n",
       "    <tr style=\"text-align: right;\">\n",
       "      <th></th>\n",
       "      <th>PassengerId</th>\n",
       "      <th>Survived</th>\n",
       "      <th>Pclass</th>\n",
       "      <th>Age</th>\n",
       "      <th>SibSp</th>\n",
       "      <th>Parch</th>\n",
       "      <th>Fare</th>\n",
       "    </tr>\n",
       "  </thead>\n",
       "  <tbody>\n",
       "    <tr>\n",
       "      <th>count</th>\n",
       "      <td>891.000000</td>\n",
       "      <td>891.000000</td>\n",
       "      <td>891.000000</td>\n",
       "      <td>714.000000</td>\n",
       "      <td>891.000000</td>\n",
       "      <td>891.000000</td>\n",
       "      <td>891.000000</td>\n",
       "    </tr>\n",
       "    <tr>\n",
       "      <th>mean</th>\n",
       "      <td>446.000000</td>\n",
       "      <td>0.383838</td>\n",
       "      <td>2.308642</td>\n",
       "      <td>29.699118</td>\n",
       "      <td>0.523008</td>\n",
       "      <td>0.381594</td>\n",
       "      <td>32.204208</td>\n",
       "    </tr>\n",
       "    <tr>\n",
       "      <th>std</th>\n",
       "      <td>257.353842</td>\n",
       "      <td>0.486592</td>\n",
       "      <td>0.836071</td>\n",
       "      <td>14.526497</td>\n",
       "      <td>1.102743</td>\n",
       "      <td>0.806057</td>\n",
       "      <td>49.693429</td>\n",
       "    </tr>\n",
       "    <tr>\n",
       "      <th>min</th>\n",
       "      <td>1.000000</td>\n",
       "      <td>0.000000</td>\n",
       "      <td>1.000000</td>\n",
       "      <td>0.420000</td>\n",
       "      <td>0.000000</td>\n",
       "      <td>0.000000</td>\n",
       "      <td>0.000000</td>\n",
       "    </tr>\n",
       "    <tr>\n",
       "      <th>25%</th>\n",
       "      <td>223.500000</td>\n",
       "      <td>0.000000</td>\n",
       "      <td>2.000000</td>\n",
       "      <td>20.125000</td>\n",
       "      <td>0.000000</td>\n",
       "      <td>0.000000</td>\n",
       "      <td>7.910400</td>\n",
       "    </tr>\n",
       "    <tr>\n",
       "      <th>50%</th>\n",
       "      <td>446.000000</td>\n",
       "      <td>0.000000</td>\n",
       "      <td>3.000000</td>\n",
       "      <td>28.000000</td>\n",
       "      <td>0.000000</td>\n",
       "      <td>0.000000</td>\n",
       "      <td>14.454200</td>\n",
       "    </tr>\n",
       "    <tr>\n",
       "      <th>75%</th>\n",
       "      <td>668.500000</td>\n",
       "      <td>1.000000</td>\n",
       "      <td>3.000000</td>\n",
       "      <td>38.000000</td>\n",
       "      <td>1.000000</td>\n",
       "      <td>0.000000</td>\n",
       "      <td>31.000000</td>\n",
       "    </tr>\n",
       "    <tr>\n",
       "      <th>max</th>\n",
       "      <td>891.000000</td>\n",
       "      <td>1.000000</td>\n",
       "      <td>3.000000</td>\n",
       "      <td>80.000000</td>\n",
       "      <td>8.000000</td>\n",
       "      <td>6.000000</td>\n",
       "      <td>512.329200</td>\n",
       "    </tr>\n",
       "  </tbody>\n",
       "</table>\n",
       "</div>"
      ],
      "text/plain": [
       "       PassengerId    Survived      Pclass         Age       SibSp  \\\n",
       "count   891.000000  891.000000  891.000000  714.000000  891.000000   \n",
       "mean    446.000000    0.383838    2.308642   29.699118    0.523008   \n",
       "std     257.353842    0.486592    0.836071   14.526497    1.102743   \n",
       "min       1.000000    0.000000    1.000000    0.420000    0.000000   \n",
       "25%     223.500000    0.000000    2.000000   20.125000    0.000000   \n",
       "50%     446.000000    0.000000    3.000000   28.000000    0.000000   \n",
       "75%     668.500000    1.000000    3.000000   38.000000    1.000000   \n",
       "max     891.000000    1.000000    3.000000   80.000000    8.000000   \n",
       "\n",
       "            Parch        Fare  \n",
       "count  891.000000  891.000000  \n",
       "mean     0.381594   32.204208  \n",
       "std      0.806057   49.693429  \n",
       "min      0.000000    0.000000  \n",
       "25%      0.000000    7.910400  \n",
       "50%      0.000000   14.454200  \n",
       "75%      0.000000   31.000000  \n",
       "max      6.000000  512.329200  "
      ]
     },
     "execution_count": 6,
     "metadata": {},
     "output_type": "execute_result"
    }
   ],
   "source": [
    "titanic_df.describe()"
   ]
  },
  {
   "cell_type": "markdown",
   "id": "5c4c1d4c",
   "metadata": {
    "papermill": {
     "duration": 0.007454,
     "end_time": "2024-09-16T23:22:46.680322",
     "exception": false,
     "start_time": "2024-09-16T23:22:46.672868",
     "status": "completed"
    },
    "tags": []
   },
   "source": [
    "This dataset contains information such as:\n",
    "\n",
    "* PassengerID: contains Unique identifier for each passenger.\n",
    "* Survived: Whether the passenger survived (0 = No, 1 = Yes).\n",
    "* Pclass: Passenger class (1 = First, 2 = Second, 3 = Third).\n",
    "* Name: Name of the passenger.\n",
    "* Sex: Gender of the passenger.\n",
    "* Age: Age of the passenger.\n",
    "* SibSp: Number of siblings/spouses aboard the titanic.\n",
    "* Parch: Number of parents/children aboard the titanic.\n",
    "* Ticket: Ticket Number of the passenger\n",
    "* Fare: Fare paid by the passenger.\n",
    "* Cabin: Cabin number of the passenger\n",
    "* Embarked: Port of embarkation (C = Cherbourg, Q = Queenstown, S = Southampton)."
   ]
  },
  {
   "cell_type": "markdown",
   "id": "6e4a3670",
   "metadata": {
    "papermill": {
     "duration": 0.007446,
     "end_time": "2024-09-16T23:22:46.695847",
     "exception": false,
     "start_time": "2024-09-16T23:22:46.688401",
     "status": "completed"
    },
    "tags": []
   },
   "source": [
    "### Step 3: Data Cleaning\n",
    "Before we dive into analysis, we need to ensure the data is clean and ready to use. This includes handling missing values, duplicates, and incorrect data types."
   ]
  },
  {
   "cell_type": "code",
   "execution_count": 7,
   "id": "9e05f652",
   "metadata": {
    "execution": {
     "iopub.execute_input": "2024-09-16T23:22:46.713525Z",
     "iopub.status.busy": "2024-09-16T23:22:46.713110Z",
     "iopub.status.idle": "2024-09-16T23:22:46.721080Z",
     "shell.execute_reply": "2024-09-16T23:22:46.719838Z"
    },
    "papermill": {
     "duration": 0.019825,
     "end_time": "2024-09-16T23:22:46.723374",
     "exception": false,
     "start_time": "2024-09-16T23:22:46.703549",
     "status": "completed"
    },
    "tags": []
   },
   "outputs": [
    {
     "name": "stdout",
     "output_type": "stream",
     "text": [
      "PassengerId      0\n",
      "Survived         0\n",
      "Pclass           0\n",
      "Name             0\n",
      "Sex              0\n",
      "Age            177\n",
      "SibSp            0\n",
      "Parch            0\n",
      "Ticket           0\n",
      "Fare             0\n",
      "Cabin          687\n",
      "Embarked         2\n",
      "dtype: int64\n"
     ]
    }
   ],
   "source": [
    "# Check for missing values\n",
    "print(titanic_df.isnull().sum())"
   ]
  },
  {
   "cell_type": "markdown",
   "id": "f766485d",
   "metadata": {
    "papermill": {
     "duration": 0.007919,
     "end_time": "2024-09-16T23:22:46.739320",
     "exception": false,
     "start_time": "2024-09-16T23:22:46.731401",
     "status": "completed"
    },
    "tags": []
   },
   "source": [
    "#### 1. Dropping the \"Cabin\" Column\n",
    "\n",
    "Since the \"Cabin\" column has a significant number of missing values (687), we can drop this column entirely as it doesn't add much value to our analysis. We can drop it like this:"
   ]
  },
  {
   "cell_type": "code",
   "execution_count": 8,
   "id": "6287058d",
   "metadata": {
    "execution": {
     "iopub.execute_input": "2024-09-16T23:22:46.758197Z",
     "iopub.status.busy": "2024-09-16T23:22:46.757747Z",
     "iopub.status.idle": "2024-09-16T23:22:46.768957Z",
     "shell.execute_reply": "2024-09-16T23:22:46.767697Z"
    },
    "papermill": {
     "duration": 0.023786,
     "end_time": "2024-09-16T23:22:46.771517",
     "exception": false,
     "start_time": "2024-09-16T23:22:46.747731",
     "status": "completed"
    },
    "tags": []
   },
   "outputs": [],
   "source": [
    "titanic_df = titanic_df.drop(['Cabin'], axis=1)\n"
   ]
  },
  {
   "cell_type": "markdown",
   "id": "2e616a8a",
   "metadata": {
    "papermill": {
     "duration": 0.00773,
     "end_time": "2024-09-16T23:22:46.787333",
     "exception": false,
     "start_time": "2024-09-16T23:22:46.779603",
     "status": "completed"
    },
    "tags": []
   },
   "source": [
    "#### 2. Handling Missing Values in the \"Age\" Column\n",
    "\n",
    "There are 177 missing values in the \"Age\" column, which could be an important feature in the analysis. We can handle these missing values by filling with the median/mean. The median is often a better choice for skewed distributions."
   ]
  },
  {
   "cell_type": "code",
   "execution_count": 9,
   "id": "969f71a5",
   "metadata": {
    "execution": {
     "iopub.execute_input": "2024-09-16T23:22:46.804989Z",
     "iopub.status.busy": "2024-09-16T23:22:46.804512Z",
     "iopub.status.idle": "2024-09-16T23:22:46.814964Z",
     "shell.execute_reply": "2024-09-16T23:22:46.813941Z"
    },
    "papermill": {
     "duration": 0.021984,
     "end_time": "2024-09-16T23:22:46.817253",
     "exception": false,
     "start_time": "2024-09-16T23:22:46.795269",
     "status": "completed"
    },
    "tags": []
   },
   "outputs": [
    {
     "data": {
      "text/plain": [
       "0      22.0\n",
       "1      38.0\n",
       "2      26.0\n",
       "3      35.0\n",
       "4      35.0\n",
       "       ... \n",
       "886    27.0\n",
       "887    19.0\n",
       "888    28.0\n",
       "889    26.0\n",
       "890    32.0\n",
       "Name: Age, Length: 891, dtype: float64"
      ]
     },
     "execution_count": 9,
     "metadata": {},
     "output_type": "execute_result"
    }
   ],
   "source": [
    "# Fill missing values in 'Age' with median age\n",
    "titanic_df['Age'].fillna(titanic_df['Age'].median())"
   ]
  },
  {
   "cell_type": "markdown",
   "id": "b9f5b1df",
   "metadata": {
    "papermill": {
     "duration": 0.007673,
     "end_time": "2024-09-16T23:22:46.833076",
     "exception": false,
     "start_time": "2024-09-16T23:22:46.825403",
     "status": "completed"
    },
    "tags": []
   },
   "source": [
    "#### 3. Handling Missing Values in the \"Embarked\" Column\n",
    "\n",
    "There are only 2 missing values in the \"Embarked\" column, so we can either: Fill with the mode (the most common value) or Drop the rows with missing values."
   ]
  },
  {
   "cell_type": "code",
   "execution_count": 10,
   "id": "1d89d9ad",
   "metadata": {
    "execution": {
     "iopub.execute_input": "2024-09-16T23:22:46.851094Z",
     "iopub.status.busy": "2024-09-16T23:22:46.850672Z",
     "iopub.status.idle": "2024-09-16T23:22:46.862250Z",
     "shell.execute_reply": "2024-09-16T23:22:46.861074Z"
    },
    "papermill": {
     "duration": 0.023334,
     "end_time": "2024-09-16T23:22:46.864563",
     "exception": false,
     "start_time": "2024-09-16T23:22:46.841229",
     "status": "completed"
    },
    "tags": []
   },
   "outputs": [
    {
     "data": {
      "text/plain": [
       "0      S\n",
       "1      C\n",
       "2      S\n",
       "3      S\n",
       "4      S\n",
       "      ..\n",
       "886    S\n",
       "887    S\n",
       "888    S\n",
       "889    C\n",
       "890    Q\n",
       "Name: Embarked, Length: 891, dtype: object"
      ]
     },
     "execution_count": 10,
     "metadata": {},
     "output_type": "execute_result"
    }
   ],
   "source": [
    "# Fill missing 'Embarked' with the most common port\n",
    "titanic_df['Embarked'].fillna(titanic_df['Embarked'].mode()[0])"
   ]
  },
  {
   "cell_type": "code",
   "execution_count": 11,
   "id": "551b861a",
   "metadata": {
    "execution": {
     "iopub.execute_input": "2024-09-16T23:22:46.883283Z",
     "iopub.status.busy": "2024-09-16T23:22:46.882536Z",
     "iopub.status.idle": "2024-09-16T23:22:46.891499Z",
     "shell.execute_reply": "2024-09-16T23:22:46.890509Z"
    },
    "papermill": {
     "duration": 0.020757,
     "end_time": "2024-09-16T23:22:46.893798",
     "exception": false,
     "start_time": "2024-09-16T23:22:46.873041",
     "status": "completed"
    },
    "tags": []
   },
   "outputs": [
    {
     "data": {
      "text/plain": [
       "PassengerId      0\n",
       "Survived         0\n",
       "Pclass           0\n",
       "Name             0\n",
       "Sex              0\n",
       "Age            177\n",
       "SibSp            0\n",
       "Parch            0\n",
       "Ticket           0\n",
       "Fare             0\n",
       "Embarked         2\n",
       "dtype: int64"
      ]
     },
     "execution_count": 11,
     "metadata": {},
     "output_type": "execute_result"
    }
   ],
   "source": [
    "titanic_df.isnull().sum()"
   ]
  },
  {
   "cell_type": "markdown",
   "id": "a4f5fcb6",
   "metadata": {
    "papermill": {
     "duration": 0.008136,
     "end_time": "2024-09-16T23:22:46.910470",
     "exception": false,
     "start_time": "2024-09-16T23:22:46.902334",
     "status": "completed"
    },
    "tags": []
   },
   "source": [
    "### Step 4: Analysing Survival based on Gender\n",
    "\n",
    "In this step, we will investigate how survival rates vary between different genders. By examining survival patterns across gender, we can gain insights into how gender influenced the likelihood of survival."
   ]
  },
  {
   "cell_type": "code",
   "execution_count": 12,
   "id": "61f9cd63",
   "metadata": {
    "execution": {
     "iopub.execute_input": "2024-09-16T23:22:46.929207Z",
     "iopub.status.busy": "2024-09-16T23:22:46.928703Z",
     "iopub.status.idle": "2024-09-16T23:22:47.213978Z",
     "shell.execute_reply": "2024-09-16T23:22:47.212819Z"
    },
    "papermill": {
     "duration": 0.297763,
     "end_time": "2024-09-16T23:22:47.216506",
     "exception": false,
     "start_time": "2024-09-16T23:22:46.918743",
     "status": "completed"
    },
    "tags": []
   },
   "outputs": [
    {
     "name": "stdout",
     "output_type": "stream",
     "text": [
      "Number of survivors by gender:\n",
      "Sex\n",
      "female    233\n",
      "male      109\n",
      "Name: Survived, dtype: int64\n"
     ]
    },
    {
     "data": {
      "image/png": "[encoded data removed]",
      "text/plain": [
       "<Figure size 640x480 with 1 Axes>"
      ]
     },
     "metadata": {},
     "output_type": "display_data"
    }
   ],
   "source": [
    "# Get the number of survivors by gender\n",
    "survival_by_gender = titanic_df.groupby('Sex')['Survived'].sum()\n",
    "total_passengers_by_gender = titanic_df['Sex'].value_counts()\n",
    "\n",
    "print(\"Number of survivors by gender:\")\n",
    "print(survival_by_gender)\n",
    "\n",
    "# Plotting the number of survivors by gender\n",
    "sns.countplot(x='Sex', hue='Survived', data=titanic_df, palette='Set1')\n",
    "\n",
    "# Adding title and labels\n",
    "plt.title('Survival by Gender')\n",
    "plt.xlabel('Gender')\n",
    "plt.ylabel('Number of Passengers')\n",
    "\n",
    "# Adjusting the legend to show what 0 and 1 represent in survival\n",
    "plt.legend(title='Survival Status', loc='upper right', labels=['Not Survived', 'Survived'])\n",
    "\n",
    "# Show the plot\n",
    "plt.show()\n"
   ]
  },
  {
   "cell_type": "markdown",
   "id": "16366bb8",
   "metadata": {
    "papermill": {
     "duration": 0.008924,
     "end_time": "2024-09-16T23:22:47.234482",
     "exception": false,
     "start_time": "2024-09-16T23:22:47.225558",
     "status": "completed"
    },
    "tags": []
   },
   "source": [
    "From this analysis, we can discover that women had a higher survival rate than men due to the \"women and children first\" protocol."
   ]
  },
  {
   "cell_type": "markdown",
   "id": "98d4cd8e",
   "metadata": {
    "papermill": {
     "duration": 0.008499,
     "end_time": "2024-09-16T23:22:47.252120",
     "exception": false,
     "start_time": "2024-09-16T23:22:47.243621",
     "status": "completed"
    },
    "tags": []
   },
   "source": [
    "### Step 4: Analyzing Survival and Passenger Class\n",
    "In this step, we'll quantify survival rates across different passenger classes. By examining how survival rates differ between 1st, 2nd, and 3rd class passengers, we can uncover how passenger class impacted the chances of survival."
   ]
  },
  {
   "cell_type": "code",
   "execution_count": 13,
   "id": "2fd735b8",
   "metadata": {
    "execution": {
     "iopub.execute_input": "2024-09-16T23:22:47.273890Z",
     "iopub.status.busy": "2024-09-16T23:22:47.272992Z",
     "iopub.status.idle": "2024-09-16T23:22:47.516067Z",
     "shell.execute_reply": "2024-09-16T23:22:47.514939Z"
    },
    "papermill": {
     "duration": 0.257544,
     "end_time": "2024-09-16T23:22:47.518532",
     "exception": false,
     "start_time": "2024-09-16T23:22:47.260988",
     "status": "completed"
    },
    "tags": []
   },
   "outputs": [
    {
     "name": "stdout",
     "output_type": "stream",
     "text": [
      "Number of survivors by Passenger Class:\n",
      "   Passenger Class  Number of Survivors\n",
      "0                1                  136\n",
      "1                2                   87\n",
      "2                3                  119\n"
     ]
    },
    {
     "data": {
      "image/png": "[encoded data removed]",
      "text/plain": [
       "<Figure size 640x480 with 1 Axes>"
      ]
     },
     "metadata": {},
     "output_type": "display_data"
    }
   ],
   "source": [
    "# Calculate the number of survivors by passenger class\n",
    "survivors_by_class = titanic_df.groupby('Pclass')['Survived'].sum().reset_index()\n",
    "\n",
    "# Rename columns for clarity\n",
    "survivors_by_class.columns = ['Passenger Class', 'Number of Survivors']\n",
    "\n",
    "print(\"Number of survivors by Passenger Class:\")\n",
    "print(survivors_by_class)\n",
    "\n",
    "# Plotting the number of survivors by passenger class\n",
    "sns.barplot(x='Passenger Class', y='Number of Survivors', data=survivors_by_class, palette='viridis')\n",
    "\n",
    "# Adding title and axis labels\n",
    "plt.title('Number of Survivors by Passenger Class')\n",
    "plt.xlabel('Passenger Class')\n",
    "plt.ylabel('Number of Survivors')\n",
    "\n",
    "# Show the plot\n",
    "plt.show()\n"
   ]
  },
  {
   "cell_type": "markdown",
   "id": "2f2c9fe3",
   "metadata": {
    "papermill": {
     "duration": 0.0094,
     "end_time": "2024-09-16T23:22:47.537673",
     "exception": false,
     "start_time": "2024-09-16T23:22:47.528273",
     "status": "completed"
    },
    "tags": []
   },
   "source": [
    "The visualization show that first-class passengers had a significantly higher survival rate than those in third class."
   ]
  },
  {
   "cell_type": "markdown",
   "id": "a6a367d1",
   "metadata": {
    "papermill": {
     "duration": 0.009182,
     "end_time": "2024-09-16T23:22:47.556604",
     "exception": false,
     "start_time": "2024-09-16T23:22:47.547422",
     "status": "completed"
    },
    "tags": []
   },
   "source": [
    "### Step 5: Investigating Age and Survival\n",
    "Age is another critical factor to explore. Were younger passengers more likely to survive? We can create visualizations to examine the distribution of ages among survivors."
   ]
  },
  {
   "cell_type": "code",
   "execution_count": 14,
   "id": "7654eb5d",
   "metadata": {
    "execution": {
     "iopub.execute_input": "2024-09-16T23:22:47.577249Z",
     "iopub.status.busy": "2024-09-16T23:22:47.576788Z",
     "iopub.status.idle": "2024-09-16T23:22:47.968658Z",
     "shell.execute_reply": "2024-09-16T23:22:47.967508Z"
    },
    "papermill": {
     "duration": 0.405152,
     "end_time": "2024-09-16T23:22:47.971201",
     "exception": false,
     "start_time": "2024-09-16T23:22:47.566049",
     "status": "completed"
    },
    "tags": []
   },
   "outputs": [
    {
     "data": {
      "image/png": "[encoded data removed]",
      "text/plain": [
       "<Figure size 640x480 with 1 Axes>"
      ]
     },
     "metadata": {},
     "output_type": "display_data"
    }
   ],
   "source": [
    "# Plotting the distribution of age for survivors and non-survivors\n",
    "sns.histplot(data=titanic_df, x='Age', hue='Survived', multiple='stack', palette='coolwarm', bins=20)\n",
    "\n",
    "# Adding title and axis labels\n",
    "plt.title('Age Distribution by Survival')\n",
    "plt.xlabel('Age')\n",
    "plt.ylabel('Number of Passengers')\n",
    "\n",
    "# Show the plot\n",
    "plt.show()\n"
   ]
  },
  {
   "cell_type": "markdown",
   "id": "38bffc9d",
   "metadata": {
    "papermill": {
     "duration": 0.009778,
     "end_time": "2024-09-16T23:22:47.990999",
     "exception": false,
     "start_time": "2024-09-16T23:22:47.981221",
     "status": "completed"
    },
    "tags": []
   },
   "source": [
    "Passengers below the age of 40 are more likely to survive"
   ]
  },
  {
   "cell_type": "markdown",
   "id": "37f480b7",
   "metadata": {
    "papermill": {
     "duration": 0.009484,
     "end_time": "2024-09-16T23:22:48.010520",
     "exception": false,
     "start_time": "2024-09-16T23:22:48.001036",
     "status": "completed"
    },
    "tags": []
   },
   "source": [
    "### Step 7: Visualizing Fare and Survival\n",
    "We’ll analyze whether passengers who paid more for their tickets had a higher survival rate.\n",
    "A box plot can show the distribution of fare for survivors and non-survivors, highlighting the median, quartiles, and potential outliers."
   ]
  },
  {
   "cell_type": "code",
   "execution_count": 15,
   "id": "b9d20141",
   "metadata": {
    "execution": {
     "iopub.execute_input": "2024-09-16T23:22:48.032270Z",
     "iopub.status.busy": "2024-09-16T23:22:48.031806Z",
     "iopub.status.idle": "2024-09-16T23:22:48.295177Z",
     "shell.execute_reply": "2024-09-16T23:22:48.293131Z"
    },
    "papermill": {
     "duration": 0.278086,
     "end_time": "2024-09-16T23:22:48.298730",
     "exception": false,
     "start_time": "2024-09-16T23:22:48.020644",
     "status": "completed"
    },
    "tags": []
   },
   "outputs": [
    {
     "data": {
      "image/png": "[encoded data removed]",
      "text/plain": [
       "<Figure size 1200x600 with 1 Axes>"
      ]
     },
     "metadata": {},
     "output_type": "display_data"
    }
   ],
   "source": [
    "# Box plot of fare by survival status\n",
    "plt.figure(figsize=(12, 6))\n",
    "sns.boxplot(data=titanic_df, x='Survived', y='Fare', palette='coolwarm')\n",
    "\n",
    "# Adding title and axis labels\n",
    "plt.title('Fare Distribution by Survival Status')\n",
    "plt.xlabel('Survived')\n",
    "plt.ylabel('Fare')\n",
    "\n",
    "# Show the plot\n",
    "plt.show()\n"
   ]
  },
  {
   "cell_type": "markdown",
   "id": "f03c94f0",
   "metadata": {
    "papermill": {
     "duration": 0.010218,
     "end_time": "2024-09-16T23:22:48.319736",
     "exception": false,
     "start_time": "2024-09-16T23:22:48.309518",
     "status": "completed"
    },
    "tags": []
   },
   "source": [
    "### Conclusion\n",
    "\n",
    "Exploratory Data Analysis (EDA) is a vital step in any data-driven project. In this analysis of the Titanic dataset, we uncovered several interesting patterns:\n",
    "\n",
    "* Gender: Women were more likely to survive than men.\n",
    "* Class: First-class passengers had a much higher survival rate compared to third-class passengers.\n",
    "* Age: Passengers below the age of 40 are more likely to survive.\n",
    "* Fare: Those who paid higher fares (first-class passengers) had a better chance of survival.\n",
    "\n",
    "EDA not only helps us understand the dataset but also guides future machine learning models by revealing important features that influence outcomes. This analysis can be further extended by building predictive models to estimate the survival likelihood of passengers based on their attributes."
   ]
  },
  {
   "cell_type": "markdown",
   "id": "4a3ceb96",
   "metadata": {
    "papermill": {
     "duration": 0.010006,
     "end_time": "2024-09-16T23:22:48.340127",
     "exception": false,
     "start_time": "2024-09-16T23:22:48.330121",
     "status": "completed"
    },
    "tags": []
   },
   "source": [
    "## References\n",
    "\n",
    "Kaggle Titanic Dataset\n",
    "\n",
    "Pandas Documentation\n",
    "\n",
    "Seaborn Documentation\n"
   ]
  }
 ],
 "metadata": {
  "kaggle": {
   "accelerator": "none",
   "dataSources": [
    {
     "datasetId": 1818188,
     "sourceId": 2965537,
     "sourceType": "datasetVersion"
    }
   ],
   "dockerImageVersionId": 30761,
   "isGpuEnabled": false,
   "isInternetEnabled": false,
   "language": "python",
   "sourceType": "notebook"
  },
  "kernelspec": {
   "display_name": "Python 3",
   "language": "python",
   "name": "python3"
  },
  "language_info": {
   "codemirror_mode": {
    "name": "ipython",
    "version": 3
   },
   "file_extension": ".py",
   "mimetype": "text/x-python",
   "name": "python",
   "nbconvert_exporter": "python",
   "pygments_lexer": "ipython3",
   "version": "3.12.1"
  },
  "papermill": {
   "default_parameters": {},
   "duration": 8.369754,
   "end_time": "2024-09-16T23:22:48.971848",
   "environment_variables": {},
   "exception": null,
   "input_path": "__notebook__.ipynb",
   "output_path": "__notebook__.ipynb",
   "parameters": {},
   "start_time": "2024-09-16T23:22:40.602094",
   "version": "2.6.0"
  }
 },
 "nbformat": 4,
 "nbformat_minor": 5
}
